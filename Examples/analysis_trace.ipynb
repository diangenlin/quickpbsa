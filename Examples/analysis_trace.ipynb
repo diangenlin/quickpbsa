{
 "cells": [
  {
   "cell_type": "markdown",
   "metadata": {},
   "source": [
    "# Usage Example: Single Trace\n",
    "\n",
    "This notebook describes the analysis of a single, semi-synthetic trace. The functions called in this notebook are more low-level and probably not your best choice if you just want to analyse traces. The notebook analysis_stack should help you do that. This notebook is intended to provide a better understanding of how the algorithm works, and how to set the threshold parameter in the analysis."
   ]
  },
  {
   "cell_type": "code",
   "execution_count": 1,
   "metadata": {
    "scrolled": true
   },
   "outputs": [
    {
     "name": "stdout",
     "output_type": "stream",
     "text": [
      "Collecting git+https://github.com/diangenlin/quickpbsa.git\n",
      "  Cloning https://github.com/diangenlin/quickpbsa.git to /private/var/folders/xd/_p3z_3ps5gvd2s3lkx26v5jc0000gn/T/pip-req-build-8wa1bgmm\n",
      "  Running command git clone --filter=blob:none --quiet https://github.com/diangenlin/quickpbsa.git /private/var/folders/xd/_p3z_3ps5gvd2s3lkx26v5jc0000gn/T/pip-req-build-8wa1bgmm\n",
      "  Resolved https://github.com/diangenlin/quickpbsa.git to commit 4ab1dbae60cc00e607b2e118762f74d6a43491e2\n",
      "  Preparing metadata (setup.py) ... \u001b[?25ldone\n",
      "\u001b[?25hCollecting numpy (from quickpbsa==2021.0.1)\n",
      "  Using cached numpy-1.25.1-cp311-cp311-macosx_10_9_x86_64.whl (20.0 MB)\n",
      "Collecting scipy (from quickpbsa==2021.0.1)\n",
      "  Using cached scipy-1.11.1-cp311-cp311-macosx_10_9_x86_64.whl (37.0 MB)\n",
      "Collecting pandas (from quickpbsa==2021.0.1)\n",
      "  Using cached pandas-2.0.3-cp311-cp311-macosx_10_9_x86_64.whl (11.6 MB)\n",
      "Collecting sympy (from quickpbsa==2021.0.1)\n",
      "  Using cached sympy-1.12-py3-none-any.whl (5.7 MB)\n",
      "Collecting python-dateutil>=2.8.2 (from pandas->quickpbsa==2021.0.1)\n",
      "  Using cached python_dateutil-2.8.2-py2.py3-none-any.whl (247 kB)\n",
      "Collecting pytz>=2020.1 (from pandas->quickpbsa==2021.0.1)\n",
      "  Using cached pytz-2023.3-py2.py3-none-any.whl (502 kB)\n",
      "Collecting tzdata>=2022.1 (from pandas->quickpbsa==2021.0.1)\n",
      "  Using cached tzdata-2023.3-py2.py3-none-any.whl (341 kB)\n",
      "Collecting mpmath>=0.19 (from sympy->quickpbsa==2021.0.1)\n",
      "  Using cached mpmath-1.3.0-py3-none-any.whl (536 kB)\n",
      "Collecting six>=1.5 (from python-dateutil>=2.8.2->pandas->quickpbsa==2021.0.1)\n",
      "  Using cached six-1.16.0-py2.py3-none-any.whl (11 kB)\n",
      "Building wheels for collected packages: quickpbsa\n",
      "  Building wheel for quickpbsa (setup.py) ... \u001b[?25ldone\n",
      "\u001b[?25h  Created wheel for quickpbsa: filename=quickpbsa-2021.0.1-py3-none-any.whl size=49112 sha256=a794a133ea3da8ba96910dabc83eeab904fe09d6dde1764890330fe4d3eb690a\n",
      "  Stored in directory: /private/var/folders/xd/_p3z_3ps5gvd2s3lkx26v5jc0000gn/T/pip-ephem-wheel-cache-26ia3dyf/wheels/e5/b7/bc/76d571b8ee22c4cfad65f8600070afb03c45a164333388f003\n",
      "Successfully built quickpbsa\n",
      "Installing collected packages: pytz, mpmath, tzdata, sympy, six, numpy, scipy, python-dateutil, pandas, quickpbsa\n",
      "  Attempting uninstall: pytz\n",
      "    Found existing installation: pytz 2023.3\n",
      "    Uninstalling pytz-2023.3:\n",
      "      Successfully uninstalled pytz-2023.3\n",
      "  Attempting uninstall: mpmath\n",
      "    Found existing installation: mpmath 1.3.0\n",
      "    Uninstalling mpmath-1.3.0:\n",
      "      Successfully uninstalled mpmath-1.3.0\n",
      "  Attempting uninstall: tzdata\n",
      "    Found existing installation: tzdata 2023.3\n",
      "    Uninstalling tzdata-2023.3:\n",
      "      Successfully uninstalled tzdata-2023.3\n",
      "  Attempting uninstall: sympy\n",
      "    Found existing installation: sympy 1.12\n",
      "    Uninstalling sympy-1.12:\n",
      "      Successfully uninstalled sympy-1.12\n",
      "  Attempting uninstall: six\n",
      "    Found existing installation: six 1.16.0\n",
      "    Uninstalling six-1.16.0:\n",
      "      Successfully uninstalled six-1.16.0\n",
      "  Attempting uninstall: numpy\n",
      "    Found existing installation: numpy 1.25.1\n",
      "    Uninstalling numpy-1.25.1:\n",
      "      Successfully uninstalled numpy-1.25.1\n",
      "  Attempting uninstall: scipy\n",
      "    Found existing installation: scipy 1.11.1\n",
      "    Uninstalling scipy-1.11.1:\n",
      "      Successfully uninstalled scipy-1.11.1\n",
      "  Attempting uninstall: python-dateutil\n",
      "    Found existing installation: python-dateutil 2.8.2\n",
      "    Uninstalling python-dateutil-2.8.2:\n",
      "      Successfully uninstalled python-dateutil-2.8.2\n",
      "  Attempting uninstall: pandas\n",
      "    Found existing installation: pandas 2.0.3\n",
      "    Uninstalling pandas-2.0.3:\n",
      "      Successfully uninstalled pandas-2.0.3\n",
      "  Attempting uninstall: quickpbsa\n",
      "    Found existing installation: quickpbsa 2021.0.1\n",
      "    Uninstalling quickpbsa-2021.0.1:\n",
      "      Successfully uninstalled quickpbsa-2021.0.1\n",
      "Successfully installed mpmath-1.3.0 numpy-1.25.1 pandas-2.0.3 python-dateutil-2.8.2 pytz-2023.3 quickpbsa-2021.0.1 scipy-1.11.1 six-1.16.0 sympy-1.12 tzdata-2023.3\n",
      "Note: you may need to restart the kernel to use updated packages.\n"
     ]
    }
   ],
   "source": [
    "import numpy as np\n",
    "import matplotlib.pyplot as plt\n",
    "\n",
    "# import quickpbsa as pbsa\n",
    "\n",
    "%pip install --force-reinstall git+https://github.com/diangenlin/quickpbsa.git\n",
    "\n",
    "# set retina display and global figure size, font size, font\n",
    "%config InlineBackend.figure_format='retina'\n",
    "plt.rcParams.update({'font.size':12})\n",
    "plt.rcParams.update({'font.family':'Arial'})\n",
    "\n",
    "%matplotlib inline"
   ]
  },
  {
   "cell_type": "code",
   "execution_count": null,
   "metadata": {},
   "outputs": [],
   "source": [
    "import quickpbsa as pbsa"
   ]
  },
  {
   "cell_type": "markdown",
   "metadata": {},
   "source": [
    "## Build a trace from less complex traces\n",
    "\n",
    "The first step is to build a complex trace from traces which can still be easily analysed by eye. In this case two traces with 3 bleaching steps each and one with 4 bleaching steps are summed up. Thus the resulting trace has 10 bleaching steps."
   ]
  },
  {
   "cell_type": "code",
   "execution_count": null,
   "metadata": {},
   "outputs": [],
   "source": [
    "traces=np.loadtxt('./Data/ExampleTrace.txt')\n",
    "sumtrace=np.sum(traces,0)\n",
    "\n",
    "plt.figure()\n",
    "plt.plot(traces.T)\n",
    "plt.plot(sumtrace)\n",
    "plt.legend(['4 Fluorophores','3 Fluorophores','3 Fluorophores','Sum'])\n",
    "plt.show()\n",
    "\n",
    "#reverse trace\n",
    "sumtrace=np.flipud(sumtrace)"
   ]
  },
  {
   "cell_type": "markdown",
   "metadata": {},
   "source": [
    "## Preliminary Step Detection\n",
    "\n",
    "First we run the preliminary step detection on the reversed trace with a threshold setting of 0.1, roughly half of the height of the last step. The preliminary step detection successively places steps in the trace, while evaluating the Schwarz information criterion. Steps with a difference in means below the threshold are not added.  "
   ]
  },
  {
   "cell_type": "code",
   "execution_count": null,
   "metadata": {},
   "outputs": [],
   "source": [
    "# preliminary step detection\n",
    "steppos,means,variances,posbysic,niter=pbsa.steps_preliminary.kv_single_fast(sumtrace,0.1,100)\n",
    "print('Finished after ' + str(niter) + ' iterations')\n",
    "\n",
    "# diffs are the numbers of frames between steps\n",
    "diffs = np.diff(np.hstack([0, steppos, len(sumtrace)]))\n",
    "# calculate mean trace \n",
    "meantrace = np.repeat(means, diffs)\n",
    "# calculate fluorophores when counting every step with single occupancy\n",
    "fluors = np.cumsum(np.hstack((0, np.sign(np.diff(means)))))\n",
    "fluortrace = np.repeat(fluors, diffs)\n",
    "\n",
    "fig = plt.figure()\n",
    "plt.plot(sumtrace, label='Trace')\n",
    "plt.plot(meantrace, label='Means')\n",
    "ax1 = plt.gca()\n",
    "ax2 = ax1.twinx()\n",
    "ax1.set_xlabel('Frames')\n",
    "ax1.set_ylabel('Intensity [a.u.]')\n",
    "ax2.plot(fluortrace, 'r--', label='Fluorophores')\n",
    "ax2.set_ylabel('Fluorophores', color='r')\n",
    "lines, labels = ax1.get_legend_handles_labels()\n",
    "lines2, labels2 = ax2.get_legend_handles_labels()\n",
    "ax2.legend(lines + lines2, labels + labels2, loc=0)\n",
    "plt.show()"
   ]
  },
  {
   "cell_type": "markdown",
   "metadata": {},
   "source": [
    "The preliminary step detection appears to detect all steps from the original traces. But since the preliminary step does not assign occupancies to the events, the number of fluorophores is underestimated by 1."
   ]
  },
  {
   "cell_type": "markdown",
   "metadata": {},
   "source": [
    "## Step Refinement\n",
    "\n",
    "The main idea is to minimize the posterior iteratively, as detailed in the paper and the readme.\n",
    "\n",
    "The step refinement will attempt to place steps with multiple occupancy, i.e. where more than one fluorophore bleaches in the same frame, starting from the result of the preliminary step detection. It will then successively remove steps in the inverse order in which they were found in the preliminary step detection, each time re-evaluating the occupancies and calculating the minimum posterior."
   ]
  },
  {
   "cell_type": "code",
   "execution_count": null,
   "metadata": {},
   "outputs": [],
   "source": [
    "# call to improve_steps_single\n",
    "success, sicmin, steppos_out, step_out = \\\n",
    "    pbsa.steps_refinement.improve_steps_single(sumtrace, steppos, means, variances, posbysic)\n",
    "\n",
    "# calculate fluorophore trace\n",
    "diffs = np.diff(np.hstack([0, steppos_out, len(sumtrace)]))\n",
    "fluors = np.cumsum(np.hstack([0, step_out]))\n",
    "fluortrace_final = np.repeat(fluors, diffs)\n",
    "\n",
    "fig = plt.figure()\n",
    "plt.plot(sumtrace, label='Trace')\n",
    "ax1 = plt.gca()\n",
    "ax2 = ax1.twinx()\n",
    "ax1.set_xlabel('Frames')\n",
    "ax1.set_ylabel('Intensity [a.u.]')\n",
    "ax2.plot(fluortrace_final, 'r--', label='Fluorophores')\n",
    "ax2.set_ylabel('Fluorophores', color='r')\n",
    "lines, labels = ax1.get_legend_handles_labels()\n",
    "lines2, labels2 = ax2.get_legend_handles_labels()\n",
    "ax2.legend(lines + lines2, labels + labels2, loc=0)\n",
    "plt.show()"
   ]
  },
  {
   "cell_type": "code",
   "execution_count": null,
   "metadata": {},
   "outputs": [],
   "source": [
    "x = np.arange(9.0)\n",
    "y = (3,)\n",
    "np.split(x, 3)"
   ]
  },
  {
   "cell_type": "code",
   "execution_count": null,
   "metadata": {},
   "outputs": [],
   "source": [
    "print(type(np.split(x, 3)))"
   ]
  },
  {
   "cell_type": "code",
   "execution_count": null,
   "metadata": {},
   "outputs": [],
   "source": [
    "print(np.shape(x))"
   ]
  },
  {
   "cell_type": "code",
   "execution_count": null,
   "metadata": {},
   "outputs": [],
   "source": [
    "alist = [np.array([1, 2]), np.array([3,4])]\n",
    "anarray = np.array([5,6,7])\n",
    "alist - anarray"
   ]
  },
  {
   "cell_type": "markdown",
   "metadata": {},
   "source": [
    "The step refinement correctly identifies the double step and the result now yields the correct number of 10 fluorophores."
   ]
  },
  {
   "cell_type": "markdown",
   "metadata": {},
   "source": [
    "## Setting the Threshold\n",
    "\n",
    "Now let's explore a bit how the setting of the threshold parameter affects the analysis result. This is the most important parameter for the analysis and there is some danger of tuning results with the parameter."
   ]
  },
  {
   "cell_type": "markdown",
   "metadata": {},
   "source": [
    "### Threshold to low"
   ]
  },
  {
   "cell_type": "code",
   "execution_count": null,
   "metadata": {},
   "outputs": [],
   "source": [
    "# preliminary step detection\n",
    "steppos,means,variances,posbysic,niter=pbsa.steps_preliminary.kv_single_fast(sumtrace,0.05,100)\n",
    "\n",
    "# diffs are the numbers of frames between steps\n",
    "diffs = np.diff(np.hstack([0, steppos, len(sumtrace)]))\n",
    "# calculate mean trace \n",
    "meantrace = np.repeat(means, diffs)\n",
    "# calculate fluorophores when counting every step with single occupancy\n",
    "fluors = np.cumsum(np.hstack((0, np.sign(np.diff(means)))))\n",
    "fluortrace = np.repeat(fluors, diffs)\n",
    "\n",
    "fig, axes = plt.subplots(1,2)\n",
    "axes[0].set_title('Preliminary')\n",
    "axes[0].plot(sumtrace, label='Trace')\n",
    "axes[0].plot(meantrace, label='Means')\n",
    "ax2 = axes[0].twinx()\n",
    "axes[0].set_xlabel('Frames')\n",
    "axes[0].set_ylabel('Intensity [a.u.]')\n",
    "ax2.plot(fluortrace, 'r--', label='Fluorophores')\n",
    "lines, labels = axes[0].get_legend_handles_labels()\n",
    "lines2, labels2 = ax2.get_legend_handles_labels()\n",
    "ax2.legend(lines + lines2, labels + labels2, loc=0)\n",
    "\n",
    "# call to improve_steps_single\n",
    "success, sicmin, steppos_out, step_out = \\\n",
    "    pbsa.steps_refinement.improve_steps_single(sumtrace, steppos, means, variances, posbysic)\n",
    "\n",
    "# calculate fluorophore trace\n",
    "diffs = np.diff(np.hstack([0, steppos_out, len(sumtrace)]))\n",
    "fluors = np.cumsum(np.hstack([0, step_out]))\n",
    "fluortrace_final = np.repeat(fluors, diffs)\n",
    "\n",
    "axes[1].set_title('After Refinement')\n",
    "axes[1].plot(sumtrace)\n",
    "ax2 = axes[1].twinx()\n",
    "ax2.plot(fluortrace_final, 'r--')\n",
    "ax2.set_ylabel('Fluorophores', color='r')\n",
    "fig.set_size_inches([12, 4])\n",
    "plt.show()"
   ]
  },
  {
   "cell_type": "markdown",
   "metadata": {},
   "source": [
    "If the threshold is set too low, the preliminary step detection will place spurious steps at positions of smaller signal fluctuations, something that happens frequently in experimental data. Small blinking events, often caused by photophysics of fluorophores, are detected as full bleaching events, e.g. around 700 frames.  \n",
    "This is however corrected to a certain degree by the step refinement, since steps can be removed in the refinement. In the case of the example trace, all spurious steps or small blinking events are removed and the result from the previous threshold setting (10 fluorophores) is recovered."
   ]
  },
  {
   "cell_type": "markdown",
   "metadata": {},
   "source": [
    "### Threshold too high"
   ]
  },
  {
   "cell_type": "code",
   "execution_count": null,
   "metadata": {},
   "outputs": [],
   "source": [
    "# preliminary step detection\n",
    "steppos,means,variances,posbysic,niter=pbsa.steps_preliminary.kv_single_fast(sumtrace,0.25,100)\n",
    "\n",
    "# diffs are the numbers of frames between steps\n",
    "diffs = np.diff(np.hstack([0, steppos, len(sumtrace)]))\n",
    "# calculate mean trace \n",
    "meantrace = np.repeat(means, diffs)\n",
    "# calculate fluorophores when counting every step with single occupancy\n",
    "fluors = np.cumsum(np.hstack((0, np.sign(np.diff(means)))))\n",
    "fluortrace = np.repeat(fluors, diffs)\n",
    "\n",
    "fig, axes = plt.subplots(1,2)\n",
    "axes[0].set_title('Preliminary')\n",
    "axes[0].plot(sumtrace, label='Trace')\n",
    "axes[0].plot(meantrace, label='Means')\n",
    "ax2 = axes[0].twinx()\n",
    "axes[0].set_xlabel('Frames')\n",
    "axes[0].set_ylabel('Intensity [a.u.]')\n",
    "ax2.plot(fluortrace, 'r--', label='Fluorophores')\n",
    "lines, labels = axes[0].get_legend_handles_labels()\n",
    "lines2, labels2 = ax2.get_legend_handles_labels()\n",
    "ax2.legend(lines + lines2, labels + labels2, loc=0)\n",
    "\n",
    "# call to improve_steps_single\n",
    "success, sicmin, steppos_out, step_out = \\\n",
    "    pbsa.steps_refinement.improve_steps_single(sumtrace, steppos, means, variances, posbysic)\n",
    "\n",
    "# calculate fluorophore trace\n",
    "diffs = np.diff(np.hstack([0, steppos_out, len(sumtrace)]))\n",
    "fluors = np.cumsum(np.hstack([0, step_out]))\n",
    "fluortrace_final = np.repeat(fluors, diffs)\n",
    "\n",
    "axes[1].set_title('After Refinement')\n",
    "axes[1].plot(sumtrace)\n",
    "ax2 = axes[1].twinx()\n",
    "ax2.plot(fluortrace_final, 'r--')\n",
    "ax2.set_ylabel('Fluorophores', color='r')\n",
    "fig.set_size_inches([12, 4])\n",
    "plt.show()"
   ]
  },
  {
   "cell_type": "markdown",
   "metadata": {},
   "source": [
    "A too high setting of the threshold parameter is also problematic in the preliminary step detection, since steps are missed, e.g. around 700 frames. The number of fluorophores is underestimated. But also in this case the step refinement has a compensating effect. By either adding additional steps or placing steps with higher occupancy the estimate is corrected. In the case of the example trace the correct number of fluorophores is recovered, although the exact placement of the steps is not the same as the ground truth.\n",
    "\n",
    "Both these examples illustrate that the algorithm has a certain robustness to the setting of the threshold parameter, as long as the last step in the trace is correctly identified."
   ]
  }
 ],
 "metadata": {
  "kernelspec": {
   "display_name": "Python 3 (ipykernel)",
   "language": "python",
   "name": "python3"
  },
  "language_info": {
   "codemirror_mode": {
    "name": "ipython",
    "version": 3
   },
   "file_extension": ".py",
   "mimetype": "text/x-python",
   "name": "python",
   "nbconvert_exporter": "python",
   "pygments_lexer": "ipython3",
   "version": "3.11.3"
  }
 },
 "nbformat": 4,
 "nbformat_minor": 2
}
