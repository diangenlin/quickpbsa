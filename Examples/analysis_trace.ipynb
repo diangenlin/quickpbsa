{
 "cells": [
  {
   "cell_type": "markdown",
   "metadata": {},
   "source": [
    "# Usage Example: Single Trace\n",
    "\n",
    "This notebook describes the analysis of a single, semi-synthetic trace. The functions called in this notebook are more low-level and probably not your best choice if you just want to analyse traces. The notebook analysis_stack should help you do that. This notebook is intended to provide a better understanding of how the algorithm works, and how to set the threshold parameter in the analysis."
   ]
  },
  {
   "cell_type": "code",
   "execution_count": null,
   "metadata": {
    "scrolled": true
   },
   "outputs": [],
   "source": [
    "import numpy as np\n",
    "import matplotlib.pyplot as plt\n",
    "\n",
    "# import quickpbsa as pbsa\n",
    "\n",
    "%pip install --force-reinstall git+https://github.com/diangenlin/quickpbsa.git\n",
    "\n",
    "# set retina display and global figure size, font size, font\n",
    "%config InlineBackend.figure_format='retina'\n",
    "plt.rcParams.update({'font.size':12})\n",
    "plt.rcParams.update({'font.family':'Arial'})\n",
    "\n",
    "%matplotlib inline"
   ]
  },
  {
   "cell_type": "code",
   "execution_count": null,
   "metadata": {},
   "outputs": [],
   "source": [
    "import quickpbsa as pbsa"
   ]
  },
  {
   "cell_type": "markdown",
   "metadata": {},
   "source": [
    "## Build a trace from less complex traces\n",
    "\n",
    "The first step is to build a complex trace from traces which can still be easily analysed by eye. In this case two traces with 3 bleaching steps each and one with 4 bleaching steps are summed up. Thus the resulting trace has 10 bleaching steps."
   ]
  },
  {
   "cell_type": "code",
   "execution_count": null,
   "metadata": {},
   "outputs": [],
   "source": [
    "traces=np.loadtxt('./Data/ExampleTrace.txt')\n",
    "sumtrace=np.sum(traces,0)\n",
    "\n",
    "plt.figure()\n",
    "plt.plot(traces.T)\n",
    "plt.plot(sumtrace)\n",
    "plt.legend(['4 Fluorophores','3 Fluorophores','3 Fluorophores','Sum'])\n",
    "plt.show()\n",
    "\n",
    "#reverse trace\n",
    "sumtrace=np.flipud(sumtrace)"
   ]
  },
  {
   "cell_type": "markdown",
   "metadata": {},
   "source": [
    "## Preliminary Step Detection\n",
    "\n",
    "First we run the preliminary step detection on the reversed trace with a threshold setting of 0.1, roughly half of the height of the last step. The preliminary step detection successively places steps in the trace, while evaluating the Schwarz information criterion. Steps with a difference in means below the threshold are not added.  "
   ]
  },
  {
   "cell_type": "code",
   "execution_count": null,
   "metadata": {},
   "outputs": [],
   "source": [
    "# preliminary step detection\n",
    "steppos,means,variances,posbysic,niter=pbsa.steps_preliminary.kv_single_fast(sumtrace,0.1,100)\n",
    "print('Finished after ' + str(niter) + ' iterations')\n",
    "\n",
    "# diffs are the numbers of frames between steps\n",
    "diffs = np.diff(np.hstack([0, steppos, len(sumtrace)]))\n",
    "# calculate mean trace \n",
    "meantrace = np.repeat(means, diffs)\n",
    "# calculate fluorophores when counting every step with single occupancy\n",
    "fluors = np.cumsum(np.hstack((0, np.sign(np.diff(means)))))\n",
    "fluortrace = np.repeat(fluors, diffs)\n",
    "\n",
    "fig = plt.figure()\n",
    "plt.plot(sumtrace, label='Trace')\n",
    "plt.plot(meantrace, label='Means')\n",
    "ax1 = plt.gca()\n",
    "ax2 = ax1.twinx()\n",
    "ax1.set_xlabel('Frames')\n",
    "ax1.set_ylabel('Intensity [a.u.]')\n",
    "ax2.plot(fluortrace, 'r--', label='Fluorophores')\n",
    "ax2.set_ylabel('Fluorophores', color='r')\n",
    "lines, labels = ax1.get_legend_handles_labels()\n",
    "lines2, labels2 = ax2.get_legend_handles_labels()\n",
    "ax2.legend(lines + lines2, labels + labels2, loc=0)\n",
    "plt.show()"
   ]
  },
  {
   "cell_type": "markdown",
   "metadata": {},
   "source": [
    "The preliminary step detection appears to detect all steps from the original traces. But since the preliminary step does not assign occupancies to the events, the number of fluorophores is underestimated by 1."
   ]
  },
  {
   "cell_type": "markdown",
   "metadata": {},
   "source": [
    "## Step Refinement\n",
    "\n",
    "The main idea is to minimize the posterior iteratively, as detailed in the paper and the readme.\n",
    "\n",
    "The step refinement will attempt to place steps with multiple occupancy, i.e. where more than one fluorophore bleaches in the same frame, starting from the result of the preliminary step detection. It will then successively remove steps in the inverse order in which they were found in the preliminary step detection, each time re-evaluating the occupancies and calculating the minimum posterior."
   ]
  },
  {
   "cell_type": "code",
   "execution_count": null,
   "metadata": {},
   "outputs": [],
   "source": [
    "# call to improve_steps_single\n",
    "success, sicmin, steppos_out, step_out = \\\n",
    "    pbsa.steps_refinement.improve_steps_single(sumtrace, steppos, means, variances, posbysic)\n",
    "\n",
    "# calculate fluorophore trace\n",
    "diffs = np.diff(np.hstack([0, steppos_out, len(sumtrace)]))\n",
    "fluors = np.cumsum(np.hstack([0, step_out]))\n",
    "fluortrace_final = np.repeat(fluors, diffs)\n",
    "\n",
    "fig = plt.figure()\n",
    "plt.plot(sumtrace, label='Trace')\n",
    "ax1 = plt.gca()\n",
    "ax2 = ax1.twinx()\n",
    "ax1.set_xlabel('Frames')\n",
    "ax1.set_ylabel('Intensity [a.u.]')\n",
    "ax2.plot(fluortrace_final, 'r--', label='Fluorophores')\n",
    "ax2.set_ylabel('Fluorophores', color='r')\n",
    "lines, labels = ax1.get_legend_handles_labels()\n",
    "lines2, labels2 = ax2.get_legend_handles_labels()\n",
    "ax2.legend(lines + lines2, labels + labels2, loc=0)\n",
    "plt.show()"
   ]
  },
  {
   "cell_type": "code",
   "execution_count": null,
   "metadata": {},
   "outputs": [],
   "source": [
    "x = np.arange(10.0)\n",
    "y = (3,)\n",
    ">>> np.split(x, 3)"
   ]
  },
  {
   "cell_type": "code",
   "execution_count": null,
   "metadata": {},
   "outputs": [],
   "source": [
    "print(np.shape(x))"
   ]
  },
  {
   "cell_type": "code",
   "execution_count": null,
   "metadata": {},
   "outputs": [],
   "source": [
    "print(np.shape(3))"
   ]
  },
  {
   "cell_type": "markdown",
   "metadata": {},
   "source": [
    "The step refinement correctly identifies the double step and the result now yields the correct number of 10 fluorophores."
   ]
  },
  {
   "cell_type": "markdown",
   "metadata": {},
   "source": [
    "## Setting the Threshold\n",
    "\n",
    "Now let's explore a bit how the setting of the threshold parameter affects the analysis result. This is the most important parameter for the analysis and there is some danger of tuning results with the parameter."
   ]
  },
  {
   "cell_type": "markdown",
   "metadata": {},
   "source": [
    "### Threshold to low"
   ]
  },
  {
   "cell_type": "code",
   "execution_count": null,
   "metadata": {},
   "outputs": [],
   "source": [
    "# preliminary step detection\n",
    "steppos,means,variances,posbysic,niter=pbsa.steps_preliminary.kv_single_fast(sumtrace,0.05,100)\n",
    "\n",
    "# diffs are the numbers of frames between steps\n",
    "diffs = np.diff(np.hstack([0, steppos, len(sumtrace)]))\n",
    "# calculate mean trace \n",
    "meantrace = np.repeat(means, diffs)\n",
    "# calculate fluorophores when counting every step with single occupancy\n",
    "fluors = np.cumsum(np.hstack((0, np.sign(np.diff(means)))))\n",
    "fluortrace = np.repeat(fluors, diffs)\n",
    "\n",
    "fig, axes = plt.subplots(1,2)\n",
    "axes[0].set_title('Preliminary')\n",
    "axes[0].plot(sumtrace, label='Trace')\n",
    "axes[0].plot(meantrace, label='Means')\n",
    "ax2 = axes[0].twinx()\n",
    "axes[0].set_xlabel('Frames')\n",
    "axes[0].set_ylabel('Intensity [a.u.]')\n",
    "ax2.plot(fluortrace, 'r--', label='Fluorophores')\n",
    "lines, labels = axes[0].get_legend_handles_labels()\n",
    "lines2, labels2 = ax2.get_legend_handles_labels()\n",
    "ax2.legend(lines + lines2, labels + labels2, loc=0)\n",
    "\n",
    "# call to improve_steps_single\n",
    "success, sicmin, steppos_out, step_out = \\\n",
    "    pbsa.steps_refinement.improve_steps_single(sumtrace, steppos, means, variances, posbysic)\n",
    "\n",
    "# calculate fluorophore trace\n",
    "diffs = np.diff(np.hstack([0, steppos_out, len(sumtrace)]))\n",
    "fluors = np.cumsum(np.hstack([0, step_out]))\n",
    "fluortrace_final = np.repeat(fluors, diffs)\n",
    "\n",
    "axes[1].set_title('After Refinement')\n",
    "axes[1].plot(sumtrace)\n",
    "ax2 = axes[1].twinx()\n",
    "ax2.plot(fluortrace_final, 'r--')\n",
    "ax2.set_ylabel('Fluorophores', color='r')\n",
    "fig.set_size_inches([12, 4])\n",
    "plt.show()"
   ]
  },
  {
   "cell_type": "markdown",
   "metadata": {},
   "source": [
    "If the threshold is set too low, the preliminary step detection will place spurious steps at positions of smaller signal fluctuations, something that happens frequently in experimental data. Small blinking events, often caused by photophysics of fluorophores, are detected as full bleaching events, e.g. around 700 frames.  \n",
    "This is however corrected to a certain degree by the step refinement, since steps can be removed in the refinement. In the case of the example trace, all spurious steps or small blinking events are removed and the result from the previous threshold setting (10 fluorophores) is recovered."
   ]
  },
  {
   "cell_type": "markdown",
   "metadata": {},
   "source": [
    "### Threshold too high"
   ]
  },
  {
   "cell_type": "code",
   "execution_count": null,
   "metadata": {},
   "outputs": [],
   "source": [
    "# preliminary step detection\n",
    "steppos,means,variances,posbysic,niter=pbsa.steps_preliminary.kv_single_fast(sumtrace,0.25,100)\n",
    "\n",
    "# diffs are the numbers of frames between steps\n",
    "diffs = np.diff(np.hstack([0, steppos, len(sumtrace)]))\n",
    "# calculate mean trace \n",
    "meantrace = np.repeat(means, diffs)\n",
    "# calculate fluorophores when counting every step with single occupancy\n",
    "fluors = np.cumsum(np.hstack((0, np.sign(np.diff(means)))))\n",
    "fluortrace = np.repeat(fluors, diffs)\n",
    "\n",
    "fig, axes = plt.subplots(1,2)\n",
    "axes[0].set_title('Preliminary')\n",
    "axes[0].plot(sumtrace, label='Trace')\n",
    "axes[0].plot(meantrace, label='Means')\n",
    "ax2 = axes[0].twinx()\n",
    "axes[0].set_xlabel('Frames')\n",
    "axes[0].set_ylabel('Intensity [a.u.]')\n",
    "ax2.plot(fluortrace, 'r--', label='Fluorophores')\n",
    "lines, labels = axes[0].get_legend_handles_labels()\n",
    "lines2, labels2 = ax2.get_legend_handles_labels()\n",
    "ax2.legend(lines + lines2, labels + labels2, loc=0)\n",
    "\n",
    "# call to improve_steps_single\n",
    "success, sicmin, steppos_out, step_out = \\\n",
    "    pbsa.steps_refinement.improve_steps_single(sumtrace, steppos, means, variances, posbysic)\n",
    "\n",
    "# calculate fluorophore trace\n",
    "diffs = np.diff(np.hstack([0, steppos_out, len(sumtrace)]))\n",
    "fluors = np.cumsum(np.hstack([0, step_out]))\n",
    "fluortrace_final = np.repeat(fluors, diffs)\n",
    "\n",
    "axes[1].set_title('After Refinement')\n",
    "axes[1].plot(sumtrace)\n",
    "ax2 = axes[1].twinx()\n",
    "ax2.plot(fluortrace_final, 'r--')\n",
    "ax2.set_ylabel('Fluorophores', color='r')\n",
    "fig.set_size_inches([12, 4])\n",
    "plt.show()"
   ]
  },
  {
   "cell_type": "markdown",
   "metadata": {},
   "source": [
    "A too high setting of the threshold parameter is also problematic in the preliminary step detection, since steps are missed, e.g. around 700 frames. The number of fluorophores is underestimated. But also in this case the step refinement has a compensating effect. By either adding additional steps or placing steps with higher occupancy the estimate is corrected. In the case of the example trace the correct number of fluorophores is recovered, although the exact placement of the steps is not the same as the ground truth.\n",
    "\n",
    "Both these examples illustrate that the algorithm has a certain robustness to the setting of the threshold parameter, as long as the last step in the trace is correctly identified."
   ]
  }
 ],
 "metadata": {
  "kernelspec": {
   "display_name": "Python 3 (ipykernel)",
   "language": "python",
   "name": "python3"
  },
  "language_info": {
   "codemirror_mode": {
    "name": "ipython",
    "version": 3
   },
   "file_extension": ".py",
   "mimetype": "text/x-python",
   "name": "python",
   "nbconvert_exporter": "python",
   "pygments_lexer": "ipython3",
   "version": "3.11.3"
  }
 },
 "nbformat": 4,
 "nbformat_minor": 2
}
